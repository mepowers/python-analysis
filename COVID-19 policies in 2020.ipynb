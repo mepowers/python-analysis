{
 "cells": [
  {
   "cell_type": "markdown",
   "id": "encouraging-semiconductor",
   "metadata": {},
   "source": [
    "# COVID-19 Cases & Policies by Country\n",
    "\n",
    "For this project, I'm interested in how affective different prevention policies (e.g. masks, restaurant closures) have been against the spread of COVID-19 and COVID-19-related deaths.\n",
    "\n",
    "There are existing visualizations and analyses for this.  My goal is to play with combining multiple datasets, filtering, and exploring trends within those datasets using tools I haven't used before.\n",
    "\n",
    "Analysis Observations are called out in Markdown after the results plots. \n",
    "\n",
    "About COVID dataset:  https://github.com/owid/covid-19-data/tree/master/public/data \\\n",
    "About Policies dataset:  https://github.com/OxCGRT/covid-policy-tracker"
   ]
  },
  {
   "cell_type": "code",
   "execution_count": 6,
   "id": "about-alexander",
   "metadata": {},
   "outputs": [],
   "source": [
    "import pandas as pd"
   ]
  },
  {
   "cell_type": "code",
   "execution_count": 7,
   "id": "prompt-negative",
   "metadata": {},
   "outputs": [],
   "source": [
    "from datetime import datetime"
   ]
  },
  {
   "cell_type": "code",
   "execution_count": 8,
   "id": "stuck-market",
   "metadata": {},
   "outputs": [],
   "source": [
    "import matplotlib.pyplot as plt\n",
    "import plotly.graph_objects as go\n",
    "import plotly.express as px\n",
    "from plotly.subplots import make_subplots"
   ]
  },
  {
   "cell_type": "markdown",
   "id": "returning-essex",
   "metadata": {},
   "source": [
    "#### Import datasets"
   ]
  },
  {
   "cell_type": "code",
   "execution_count": null,
   "id": "defined-flooring",
   "metadata": {},
   "outputs": [],
   "source": [
    "# COVID impact by country:\n",
    "cov = pd.read_csv(\n",
    "    \"https://covid.ourworldindata.org/data/owid-covid-data.csv\", \n",
    "    parse_dates=True\n",
    ")"
   ]
  },
  {
   "cell_type": "code",
   "execution_count": null,
   "id": "civic-first",
   "metadata": {},
   "outputs": [],
   "source": [
    "# Policies enforced in response:\n",
    "pol = pd.read_csv(\n",
    "    'https://raw.githubusercontent.com/OxCGRT/covid-policy-tracker/master/data/OxCGRT_latest.csv', \n",
    "    parse_dates=True,\n",
    "    low_memory=False\n",
    ")"
   ]
  },
  {
   "cell_type": "markdown",
   "id": "tender-graphics",
   "metadata": {},
   "source": [
    "#### Update COVID df so headers match Policy df; reformat Policy dates"
   ]
  },
  {
   "cell_type": "code",
   "execution_count": null,
   "id": "dominant-aberdeen",
   "metadata": {},
   "outputs": [],
   "source": [
    "# Rename columns\n",
    "cov.rename(columns={'iso_code': 'CountryCode', 'location': 'CountryName', 'date': 'Date'}, inplace=True)"
   ]
  },
  {
   "cell_type": "code",
   "execution_count": null,
   "id": "olympic-humor",
   "metadata": {},
   "outputs": [],
   "source": [
    "# Move 'Date' to first column (for merge)\n",
    "first_column = cov.pop('Date')\n",
    "cov.insert(0, 'Date', first_column)"
   ]
  },
  {
   "cell_type": "code",
   "execution_count": null,
   "id": "third-acrobat",
   "metadata": {},
   "outputs": [],
   "source": [
    "# Reformat pol 'Date' to be yyyy-dd-mm\n",
    "to_date = []\n",
    "for d in range(0, len(pol)):\n",
    "    to_date.append( \\\n",
    "        str(pol['Date'][d])[0:4] \\\n",
    "        + '-' + str(pol['Date'][d])[4:6] \\\n",
    "        + '-' + str(pol['Date'][d])[6:8] \\\n",
    "        )"
   ]
  },
  {
   "cell_type": "code",
   "execution_count": null,
   "id": "specified-productivity",
   "metadata": {},
   "outputs": [],
   "source": [
    "# Update Policy 'Date' with new formatted dates\n",
    "pol['Date'] = to_date"
   ]
  },
  {
   "cell_type": "code",
   "execution_count": null,
   "id": "liberal-harris",
   "metadata": {},
   "outputs": [],
   "source": [
    "# Move Policy 'Date' to first column (for merge)\n",
    "first_column = pol.pop('Date')\n",
    "pol.insert(0, 'Date', first_column)"
   ]
  },
  {
   "cell_type": "code",
   "execution_count": null,
   "id": "beautiful-butter",
   "metadata": {},
   "outputs": [],
   "source": [
    "# Sort by date\n",
    "cov.sort_values(by=['Date'], inplace=True)\n",
    "pol.sort_values(by=['Date'], inplace=True)"
   ]
  },
  {
   "cell_type": "code",
   "execution_count": null,
   "id": "experimental-packet",
   "metadata": {},
   "outputs": [],
   "source": [
    "# Convert Date to datetime\n",
    "cov['Date'] = pd.to_datetime(cov['Date'])\n",
    "pol['Date'] = pd.to_datetime(pol['Date'])"
   ]
  },
  {
   "cell_type": "markdown",
   "id": "personalized-residence",
   "metadata": {},
   "source": [
    "#### Merge the two DataFrames"
   ]
  },
  {
   "cell_type": "code",
   "execution_count": null,
   "id": "wrapped-diagnosis",
   "metadata": {},
   "outputs": [],
   "source": [
    "df = pd.merge_asof(cov, pol, on='Date', by='CountryName')"
   ]
  },
  {
   "cell_type": "markdown",
   "id": "greatest-friendly",
   "metadata": {},
   "source": [
    "#### Remove regions (e.g. World)\n",
    "I realized regions and general categories were included as \"countries\" when I plotted the data.  For total cases per day, 'World' stood out as a clear outlier.  After removing 'World,' I was plotting populations and noticed the continents and the income ranges were also included."
   ]
  },
  {
   "cell_type": "code",
   "execution_count": null,
   "id": "boolean-mention",
   "metadata": {},
   "outputs": [],
   "source": [
    "df = df.loc[(df['CountryName'] != 'World') \\\n",
    "    & (df['CountryName'] != 'Europe') \\\n",
    "    & (df['CountryName'] != 'European Union') \\\n",
    "    & (df['CountryName'] != 'Asia') \\\n",
    "    & (df['CountryName'] != 'North America') \\\n",
    "    & (df['CountryName'] != 'South America') \\\n",
    "    & (df['CountryName'] != 'Oceania') \\\n",
    "    & (df['CountryName'] != 'Africa') \\\n",
    "    & (df['CountryName'] != 'Upper middle income') \\\n",
    "    & (df['CountryName'] != 'Low income') \\\n",
    "    & (df['CountryName'] != 'Lower middle income') \\\n",
    "    & (df['CountryName'] != 'High income')\n",
    "    ]"
   ]
  },
  {
   "cell_type": "markdown",
   "id": "aboriginal-honor",
   "metadata": {},
   "source": [
    "#### Include only Feb'20 through Feb '21 to remove effect of vaccines"
   ]
  },
  {
   "cell_type": "code",
   "execution_count": null,
   "id": "clear-monkey",
   "metadata": {},
   "outputs": [],
   "source": [
    "df = df.loc[(df['Date'] > '2020-01-31') & (df['Date'] < '2021-03-01')]"
   ]
  },
  {
   "cell_type": "code",
   "execution_count": null,
   "id": "revolutionary-leisure",
   "metadata": {},
   "outputs": [],
   "source": [
    "#Get list of countries\n",
    "df.CountryName.unique()"
   ]
  },
  {
   "cell_type": "code",
   "execution_count": null,
   "id": "quantitative-wells",
   "metadata": {},
   "outputs": [],
   "source": [
    "# List of columns\n",
    "list(df.columns)"
   ]
  },
  {
   "cell_type": "code",
   "execution_count": null,
   "id": "minute-track",
   "metadata": {},
   "outputs": [],
   "source": [
    "# Plot total cases vs time for a single country\n",
    "plt.plot(df[df.CountryName == 'United States'].Date, df[df.CountryName == 'United States'].total_cases)\n",
    "plt.title('U.S. Total COVID-19 cases vs time')\n",
    "plt.xlabel('Date')\n",
    "plt.ylabel('Cases')\n",
    "plt.show()"
   ]
  },
  {
   "cell_type": "code",
   "execution_count": null,
   "id": "seventh-disclaimer",
   "metadata": {},
   "outputs": [],
   "source": [
    "# Plot multiple countries total cases on same plot\n",
    "fig, ax = plt.subplots(figsize=(15,7))\n",
    "\n",
    "df.groupby(['Date','CountryName']).sum()['total_cases'].unstack().plot(ax=ax)\n",
    "\n",
    "ax.set_title('Total COVID cases (all countries)')\n",
    "ax.set_xlabel('Date')\n",
    "ax.set_ylabel('Total Cases')\n",
    "ax.legend(loc='upper center', bbox_to_anchor=(0.5, -0.05), ncol=5)\n",
    "\n",
    "plt.show()    "
   ]
  },
  {
   "cell_type": "code",
   "execution_count": null,
   "id": "civilian-stuart",
   "metadata": {},
   "outputs": [],
   "source": [
    "# Plot multiple countries daily cases on same plot\n",
    "fig, ax = plt.subplots(figsize=(15,7))\n",
    "\n",
    "df.groupby(['Date','CountryName']).sum()['new_cases_smoothed_per_million'].unstack().plot(ax=ax)\n",
    "\n",
    "ax.set_title('New COVID cases per million (smoothed) (all countries)')\n",
    "ax.set_xlabel('Date')\n",
    "ax.set_ylabel('New Cases')\n",
    "ax.legend(loc='upper center', bbox_to_anchor=(0.5, -0.05), ncol=5)\n",
    "\n",
    "plt.show()    "
   ]
  },
  {
   "cell_type": "markdown",
   "id": "affiliated-princess",
   "metadata": {},
   "source": [
    "#### Identify best way to filter data, e.g."
   ]
  },
  {
   "cell_type": "markdown",
   "id": "editorial-kingdom",
   "metadata": {},
   "source": [
    "##### By GDP:"
   ]
  },
  {
   "cell_type": "code",
   "execution_count": null,
   "id": "adjacent-shield",
   "metadata": {},
   "outputs": [],
   "source": [
    "fig = go.Figure()\n",
    "fig.add_trace(go.Bar(\n",
    "    x = df['CountryName'].sort_values().unique(), \n",
    "    y = df.groupby(['CountryName'])['gdp_per_capita'].max(),\n",
    "    name = 'GDP per Capita - all countries'\n",
    "))\n",
    "fig.update_layout(xaxis_tickangle = 90)\n",
    "fig.show()"
   ]
  },
  {
   "cell_type": "markdown",
   "id": "sensitive-newark",
   "metadata": {},
   "source": [
    "##### By Population:"
   ]
  },
  {
   "cell_type": "code",
   "execution_count": null,
   "id": "hindu-prevention",
   "metadata": {},
   "outputs": [],
   "source": [
    "fig = go.Figure()\n",
    "fig.add_trace(go.Bar(\n",
    "    x = df['CountryName'].sort_values().unique(), \n",
    "    y = df.groupby(['CountryName'])['population'].max(),\n",
    "    name = 'Population - all countries'\n",
    "))\n",
    "fig.update_layout(xaxis_tickangle = 90)\n",
    "fig.show()"
   ]
  },
  {
   "cell_type": "markdown",
   "id": "american-schedule",
   "metadata": {},
   "source": [
    "##### By Total Cases:"
   ]
  },
  {
   "cell_type": "code",
   "execution_count": null,
   "id": "rotary-manchester",
   "metadata": {},
   "outputs": [],
   "source": [
    "fig = go.Figure()\n",
    "fig.add_trace(go.Bar(\n",
    "    x = df['CountryName'].sort_values().unique(), \n",
    "    y = df.groupby(['CountryName'])['total_cases'].max(),\n",
    "    name = 'Total Cases (max) - all countries'\n",
    "))\n",
    "fig.update_layout(xaxis_tickangle = 90)\n",
    "fig.show()"
   ]
  },
  {
   "cell_type": "markdown",
   "id": "peripheral-miami",
   "metadata": {},
   "source": [
    "##### By median stringency index:"
   ]
  },
  {
   "cell_type": "code",
   "execution_count": null,
   "id": "deadly-congress",
   "metadata": {},
   "outputs": [],
   "source": [
    "fig = go.Figure()\n",
    "fig.add_trace(go.Bar(\n",
    "    x = df['CountryName'].sort_values().unique(), \n",
    "    y = df.groupby(['CountryName'])['stringency_index'].median(),\n",
    "    name = 'Total Cases (max) - all countries'\n",
    "))\n",
    "fig.update_layout(xaxis_tickangle = 90)\n",
    "fig.show()"
   ]
  },
  {
   "cell_type": "code",
   "execution_count": null,
   "id": "manual-contractor",
   "metadata": {},
   "outputs": [],
   "source": [
    "px.histogram(df.groupby(['CountryName'])['stringency_index'].median())"
   ]
  },
  {
   "cell_type": "markdown",
   "id": "wrapped-shooting",
   "metadata": {},
   "source": [
    "#### Filter by low, medium, and high stringency countries, using histogram to ID threshold values"
   ]
  },
  {
   "cell_type": "code",
   "execution_count": null,
   "id": "blond-oliver",
   "metadata": {},
   "outputs": [],
   "source": [
    "median_stringency = df.groupby(['CountryName'])['stringency_index'].median()"
   ]
  },
  {
   "cell_type": "code",
   "execution_count": null,
   "id": "julian-centre",
   "metadata": {},
   "outputs": [],
   "source": [
    "low_str = median_stringency[(median_stringency > 20) & (median_stringency < 25)]\n",
    "hi_str = median_stringency[median_stringency > 85]\n",
    "med_str = median_stringency[(median_stringency == 68.980)]"
   ]
  },
  {
   "cell_type": "code",
   "execution_count": null,
   "id": "confirmed-bulgarian",
   "metadata": {},
   "outputs": [],
   "source": [
    "print(med_str)"
   ]
  },
  {
   "cell_type": "markdown",
   "id": "august-google",
   "metadata": {},
   "source": [
    "#### Plot new cases vs time for low, medium, and high stringency countries\n",
    "Questions:\n",
    "- Do New Cases covary with Stringency? e.g.\n",
    "    - Does Stringency increase when Cases go up?  \n",
    "    - Do Cases go up when Stringency goes down?\n",
    "- Did countries with High Stringency fare better than those with Low Stringency?"
   ]
  },
  {
   "cell_type": "markdown",
   "id": "economic-found",
   "metadata": {},
   "source": [
    "##### Starting with Medium stringency countries:  "
   ]
  },
  {
   "cell_type": "code",
   "execution_count": null,
   "id": "conservative-redhead",
   "metadata": {},
   "outputs": [],
   "source": [
    "# Re-create the first line plot, with a different line for each country (1) daily cases and (2) stringency index\n",
    "# Include secondary axis for stringency index \n",
    "# Solid line = cases; dashed = stringency index\n",
    "\n",
    "#Initialize Figure\n",
    "fig = make_subplots(specs=[[{\"secondary_y\": True}]])\n",
    "colors = ['black', 'red', 'green', 'blue', 'fuchsia']\n",
    "\n",
    "for item in range(0, len(med_str)):\n",
    "    \n",
    "    fig.add_trace(go.Scatter( \n",
    "        x = df[df.CountryName == med_str.index[item]].Date, \n",
    "        y = df[df.CountryName == med_str.index[item]].new_cases_smoothed_per_million,\n",
    "        mode = 'lines',\n",
    "        name = med_str.index[item] + ' - New Cases',\n",
    "        line = dict(color=colors[item])\n",
    "        ),\n",
    "        secondary_y=False\n",
    "        )\n",
    "    \n",
    "    fig.add_trace(go.Scatter( \n",
    "        x = df[df.CountryName == med_str.index[item]].Date, \n",
    "        y = df[df.CountryName == med_str.index[item]].stringency_index,\n",
    "        mode = 'lines',\n",
    "        name = med_str.index[item] + ' - Stringency',\n",
    "        line = dict(color=colors[item], dash='dot', width=2)\n",
    "        ),\n",
    "        secondary_y=True\n",
    "        )\n",
    "                  \n",
    "fig.update_layout(\n",
    "    title = 'New Cases and Stringency:  Medium Stringency Countries'\n",
    "    )\n",
    "\n",
    "fig.update_xaxes(title_text='Date')\n",
    "\n",
    "fig.update_yaxes(title_text='New Cases per Million', secondary_y=False)\n",
    "fig.update_yaxes(title_text='Stringency Index', secondary_y=True)\n",
    "\n",
    "fig.show()"
   ]
  },
  {
   "cell_type": "markdown",
   "id": "concrete-strip",
   "metadata": {},
   "source": [
    "Observations:\n",
    "- The United States is such an outlier with New Cases that it's difficult to see trends across countries\n",
    "- We can see Gambia had dip in stringency in July'20, then an increase in New Cases, which likely triggered the increase in Stringency again\n",
    "- The United States overall Stringency does not vary much despite large swings in New Cases.  Stringency was highest in May'20, even though New Cases gradually increased overall from there.  This may be due to pushback on lockdowns and mandates. "
   ]
  },
  {
   "cell_type": "markdown",
   "id": "intellectual-container",
   "metadata": {},
   "source": [
    "##### Next for Low Stringency Countries:"
   ]
  },
  {
   "cell_type": "code",
   "execution_count": null,
   "id": "north-vegetable",
   "metadata": {},
   "outputs": [],
   "source": [
    "# Re-create the first line plot, with a different line for each country (1) daily cases and (2) stringency index\n",
    "# Include secondary axis for stringency index \n",
    "# Solid line = cases; dashed = stringency index\n",
    "\n",
    "#Initialize Figure\n",
    "fig = make_subplots(specs=[[{\"secondary_y\": True}]])\n",
    "colors = ['black', 'red', 'green', 'blue', 'fuchsia']\n",
    "\n",
    "for item in range(0, len(low_str)):\n",
    "    \n",
    "    fig.add_trace(go.Scatter( \n",
    "        x = df[df.CountryName == low_str.index[item]].Date, \n",
    "        y = df[df.CountryName == low_str.index[item]].new_cases_smoothed_per_million,\n",
    "        mode = 'lines',\n",
    "        name = low_str.index[item] + ' - New Cases',\n",
    "        line = dict(color=colors[item])\n",
    "        ),\n",
    "        secondary_y=False\n",
    "        )\n",
    "    \n",
    "    fig.add_trace(go.Scatter( \n",
    "        x = df[df.CountryName == med_str.index[item]].Date, \n",
    "        y = df[df.CountryName == med_str.index[item]].stringency_index,\n",
    "        mode = 'lines',\n",
    "        name = low_str.index[item] + ' - Stringency',\n",
    "        line = dict(color=colors[item], dash='dot')\n",
    "        ),\n",
    "        secondary_y=True\n",
    "        )\n",
    "                  \n",
    "fig.update_layout(\n",
    "    title = 'New Cases and Stringency:  Low Stringency Countries'\n",
    "    )\n",
    "\n",
    "fig.update_xaxes(title_text='Date')\n",
    "\n",
    "fig.update_yaxes(title_text='New Cases per Million', secondary_y=False)\n",
    "fig.update_yaxes(title_text='Stringency Index', secondary_y=True)\n",
    "\n",
    "fig.show()"
   ]
  },
  {
   "cell_type": "markdown",
   "id": "activated-criterion",
   "metadata": {},
   "source": [
    "Observations:\n",
    "- These countries all saw a large spike in cases early in the pandemic, and then limited peaks of new cases following\n",
    "- This is in stark contrast to e.g. the U.S. or Cape Verde, which both saw rises and falls throughout 2020\n",
    "- The overall number of New Cases per Million is generally an order of magnitude less than that for the medium stringency cases\n",
    "- Interestingly, Mauritius had a dip in Stringency in Nov'20, a subsequent increase in Cases, but then kept Stringency low.  Cases still managed to decline and stay flat."
   ]
  },
  {
   "cell_type": "markdown",
   "id": "painted-power",
   "metadata": {},
   "source": [
    "##### And for High Stringency Countries:"
   ]
  },
  {
   "cell_type": "code",
   "execution_count": null,
   "id": "swedish-cartoon",
   "metadata": {},
   "outputs": [],
   "source": [
    "#Initialize Figure\n",
    "fig = make_subplots(specs=[[{\"secondary_y\": True}]])\n",
    "colors = ['black', 'red', 'green', 'blue', 'fuchsia']\n",
    "\n",
    "for item in range(0, len(hi_str)):\n",
    "    \n",
    "    fig.add_trace(go.Scatter( \n",
    "        x = df[df.CountryName == hi_str.index[item]].Date, \n",
    "        y = df[df.CountryName == hi_str.index[item]].new_cases_smoothed_per_million,\n",
    "        mode = 'lines',\n",
    "        name = hi_str.index[item] + ' - New Cases',\n",
    "        line = dict(color=colors[item])\n",
    "        ),\n",
    "        secondary_y=False\n",
    "        )\n",
    "    \n",
    "    fig.add_trace(go.Scatter( \n",
    "        x = df[df.CountryName == hi_str.index[item]].Date, \n",
    "        y = df[df.CountryName == hi_str.index[item]].stringency_index,\n",
    "        mode = 'lines',\n",
    "        name = hi_str.index[item] + ' - Stringency',\n",
    "        line = dict(color=colors[item], dash='dot')\n",
    "        ),\n",
    "        secondary_y=True\n",
    "        )\n",
    "                  \n",
    "fig.update_layout(\n",
    "    title = 'New Cases and Stringency:  High Stringency Countries'\n",
    "    )\n",
    "\n",
    "fig.update_xaxes(title_text='Date')\n",
    "\n",
    "fig.update_yaxes(title_text='New Cases per Million', secondary_y=False)\n",
    "fig.update_yaxes(title_text='Stringency Index', secondary_y=True)\n",
    "\n",
    "fig.show()"
   ]
  },
  {
   "cell_type": "markdown",
   "id": "engaged-portal",
   "metadata": {},
   "source": [
    "Observations:\n",
    "- All of these countries appear to have gone to \"high stringency\" early in the pandemic and stayed there\n",
    "- It would be interesting to look at government type by stringency; it's possible more authoritarian governments had generally higher stringencies\n",
    "- We can see Oman (pink) decreased in stringency in Nov'20 following a decrease in cases\n",
    "- Eritrea (red) had an increase in stringency in late 2020 following an increase in cases"
   ]
  },
  {
   "cell_type": "markdown",
   "id": "compact-penny",
   "metadata": {},
   "source": [
    "##### High, Medium, and Low on the same Plot:"
   ]
  },
  {
   "cell_type": "code",
   "execution_count": null,
   "id": "deluxe-concord",
   "metadata": {},
   "outputs": [],
   "source": [
    "#Initialize Figure\n",
    "fig = make_subplots(specs=[[{\"secondary_y\": True}]])\n",
    "low_colors = ['green', 'lime', 'chartreuse', 'darkgreen', 'darkolivegreen']\n",
    "med_colors = ['mediumblue', 'skyblue', 'deepskyblue', 'darkslateblue', 'dodgerblue']\n",
    "hi_colors = ['red', 'maroon', 'indianred', 'brown', 'darkgoldenrod']\n",
    "\n",
    "for item in range(0, len(low_str)):\n",
    "    \n",
    "    fig.add_trace(go.Scatter( \n",
    "        x = df[df.CountryName == low_str.index[item]].Date, \n",
    "        y = df[df.CountryName == low_str.index[item]].new_cases_smoothed_per_million,\n",
    "        mode = 'lines',\n",
    "        name = low_str.index[item] + ' - New Cases',\n",
    "        line = dict(color=low_colors[item])\n",
    "        ),\n",
    "        secondary_y=False\n",
    "        )\n",
    "    \n",
    "    fig.add_trace(go.Scatter( \n",
    "        x = df[df.CountryName == med_str.index[item]].Date, \n",
    "        y = df[df.CountryName == med_str.index[item]].new_cases_smoothed_per_million,\n",
    "        mode = 'lines',\n",
    "        name = med_str.index[item] + ' - New Cases',\n",
    "        line = dict(color=med_colors[item])\n",
    "        ),\n",
    "        secondary_y=False\n",
    "        )\n",
    "         \n",
    "    fig.add_trace(go.Scatter( \n",
    "        x = df[df.CountryName == hi_str.index[item]].Date, \n",
    "        y = df[df.CountryName == hi_str.index[item]].new_cases_smoothed_per_million,\n",
    "        mode = 'lines',\n",
    "        name = hi_str.index[item] + ' - New Cases',\n",
    "        line = dict(color=hi_colors[item])\n",
    "        ),\n",
    "        secondary_y=False\n",
    "        )\n",
    "        \n",
    "fig.update_layout(\n",
    "    title = 'New Cases vs Time:  High (red), Med (blue), and Low (green) Stringency Countries'\n",
    "    )\n",
    "\n",
    "fig.update_xaxes(title_text='Date')\n",
    "\n",
    "fig.update_yaxes(title_text='New Cases per Million', secondary_y=False)\n",
    "fig.update_yaxes(title_text='Stringency Index', secondary_y=True)\n",
    "\n",
    "fig.show()"
   ]
  },
  {
   "cell_type": "markdown",
   "id": "adjusted-cleaning",
   "metadata": {},
   "source": [
    "Observations:\n",
    "- Again, the U.S. is such an outlier it's tough to see other trends\n",
    "- At a glance it appears the low stringency countries fared better than medium and even high stringency countries\n",
    "- To investigate further, let's take out the medium stringency countries"
   ]
  },
  {
   "cell_type": "markdown",
   "id": "increasing-taste",
   "metadata": {},
   "source": [
    "##### Just High and Low to simplify the plot:"
   ]
  },
  {
   "cell_type": "code",
   "execution_count": null,
   "id": "square-promotion",
   "metadata": {},
   "outputs": [],
   "source": [
    "#Initialize Figure\n",
    "fig = make_subplots(specs=[[{\"secondary_y\": True}]])\n",
    "low_colors = ['green', 'lime', 'chartreuse', 'darkgreen', 'darkolivegreen']\n",
    "med_colors = ['mediumblue', 'skyblue', 'deepskyblue', 'darkslateblue', 'dodgerblue']\n",
    "hi_colors = ['red', 'maroon', 'indianred', 'brown', 'darkgoldenrod']\n",
    "\n",
    "for item in range(0, len(low_str)):\n",
    "    \n",
    "    fig.add_trace(go.Scatter( \n",
    "        x = df[df.CountryName == low_str.index[item]].Date, \n",
    "        y = df[df.CountryName == low_str.index[item]].new_cases_smoothed_per_million,\n",
    "        mode = 'lines',\n",
    "        name = low_str.index[item] + ' - New Cases',\n",
    "        line = dict(color=low_colors[item])\n",
    "        ),\n",
    "        secondary_y=False\n",
    "        )\n",
    "    \n",
    "#    fig.add_trace(go.Scatter( \n",
    "#        x = df[df.CountryName == med_str.index[item]].Date, \n",
    "#        y = df[df.CountryName == med_str.index[item]].new_cases_smoothed_per_million,\n",
    "#        mode = 'lines',\n",
    "#        name = med_str.index[item] + ' - New Cases',\n",
    "#        line = dict(color=med_colors[item])\n",
    "#        ),\n",
    "#        secondary_y=False\n",
    "#        )\n",
    "         \n",
    "    fig.add_trace(go.Scatter( \n",
    "        x = df[df.CountryName == hi_str.index[item]].Date, \n",
    "        y = df[df.CountryName == hi_str.index[item]].new_cases_smoothed_per_million,\n",
    "        mode = 'lines',\n",
    "        name = hi_str.index[item] + ' - New Cases',\n",
    "        line = dict(color=hi_colors[item])\n",
    "        ),\n",
    "        secondary_y=False\n",
    "        )\n",
    "        \n",
    "fig.update_layout(\n",
    "    title = 'New Cases vs Time:  High (red) and Low (green) Stringency Countries'\n",
    "    )\n",
    "\n",
    "fig.update_xaxes(title_text='Date')\n",
    "\n",
    "fig.update_yaxes(title_text='New Cases per Million', secondary_y=False)\n",
    "fig.update_yaxes(title_text='Stringency Index', secondary_y=True)\n",
    "\n",
    "fig.show()"
   ]
  },
  {
   "cell_type": "markdown",
   "id": "cloudy-farming",
   "metadata": {},
   "source": [
    "Observations:\n",
    "- The countries with the highest stringency fared WORSE, and had generally more New Cases per Day throughout 2020, compared to the lower stringency countries.\n",
    "- One possibility is that other policies beyond those included in the stringency metric may be more impactful in reducing New Cases.  For example, New Zealand is included in the Low Stringency group, but famously locked down it's borders more tightly than most other countries.  So while it's listed as \"low stringency,\" it did take other drastic steps to prevent spread.\n",
    "- Another possibility is there are other economical and political factors involved that impact High Stringency countries (e.g. type of government, GDP, proximity to other highly impacted countries, etc) that cause those countries to have higher spread.\n",
    "- Other visualizations of this data have plotted not vs absolute date, but vs \"#Days From 100K Cases,\" or some other relative time point.  This likely makes more sense, since the virus hit countries at different time points.\n",
    "- Future exploration would include looking into filtering results prior to plotting, and also looking at other factors beyond Stringency that may have impacted virus spread. "
   ]
  },
  {
   "cell_type": "markdown",
   "id": "novel-weekend",
   "metadata": {},
   "source": [
    "### References:\n",
    "1. Mathieu, E., Ritchie, H., Ortiz-Ospina, E. et al. A global database of COVID-19 vaccinations. Nat Hum Behav (2021). https://doi.org/10.1038/s41562-021-01122-8\n",
    "2. Hannah Ritchie, Edouard Mathieu, Lucas Rodés-Guirao, Cameron Appel, Charlie Giattino, Esteban Ortiz-Ospina, Joe Hasell, Bobbie Macdonald, Diana Beltekian and Max Roser (2020) - \"Coronavirus Pandemic (COVID-19)\". Published online at OurWorldInData.org. Retrieved from: 'https://ourworldindata.org/coronavirus' [Online Resource]\n",
    "3. Thomas Hale, Noam Angrist, Rafael Goldszmidt, Beatriz Kira, Anna Petherick, Toby Phillips, Samuel Webster, Emily Cameron-Blake, Laura Hallas, Saptarshi Majumdar, and Helen Tatlow. (2021). “A global panel database of pandemic policies (Oxford COVID-19 Government Response Tracker).” Nature Human Behaviour. https://doi.org/10.1038/s41562-021-01079-8"
   ]
  }
 ],
 "metadata": {
  "kernelspec": {
   "display_name": "Python 3",
   "language": "python",
   "name": "python3"
  },
  "language_info": {
   "codemirror_mode": {
    "name": "ipython",
    "version": 3
   },
   "file_extension": ".py",
   "mimetype": "text/x-python",
   "name": "python",
   "nbconvert_exporter": "python",
   "pygments_lexer": "ipython3",
   "version": "3.9.1"
  }
 },
 "nbformat": 4,
 "nbformat_minor": 5
}
